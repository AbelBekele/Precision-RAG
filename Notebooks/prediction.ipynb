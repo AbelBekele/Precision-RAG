{
 "cells": [
  {
   "cell_type": "code",
   "execution_count": null,
   "metadata": {},
   "outputs": [],
   "source": [
    "import pandas as pd\n",
    "import seaborn as sns\n",
    "import matplotlib.pyplot as plt\n",
    "import numpy as np\n",
    "import re\n",
    "import warnings\n",
    "warnings.simplefilter('ignore')"
   ]
  },
  {
   "cell_type": "code",
   "execution_count": null,
   "metadata": {},
   "outputs": [],
   "source": [
    "import sys\n",
    "sys.path.append(\"../scripts/\")\n",
    "from data_cleaner import DataCleaner\n",
    "from util import Util\n",
    "from pridict import Predict\n",
    "from preprocessor import Processor"
   ]
  },
  {
   "cell_type": "code",
   "execution_count": null,
   "metadata": {},
   "outputs": [],
   "source": [
    "util = Util()\n",
    "cleaner = DataCleaner()\n",
    "predictor = Predict()\n",
    "processor = Processor()"
   ]
  },
  {
   "cell_type": "markdown",
   "metadata": {},
   "source": [
    "# News"
   ]
  },
  {
   "cell_type": "code",
   "execution_count": null,
   "metadata": {},
   "outputs": [],
   "source": [
    "repo=\"https://github.com/Nathnael12/prompt-engineering.git\"\n",
    "test=util.read_from_dvc(\"data/test_news.csv\",repo,\"test-news-v3\",low_memory=False)\n",
    "train=util.read_from_dvc(\"data/trainer_news.csv\",repo,\"train-news-v3\",low_memory=False)\n",
    "\n",
    "# cleaned_df=util.read_from_file('../data/news.csv')"
   ]
  },
  {
   "cell_type": "markdown",
   "metadata": {},
   "source": [
    "### our first try structure for co:here API\n",
    "\n",
    "Task: Score news relevance\n",
    "\n",
    "Domain: {Domain}\n",
    "\n",
    "Title: {Title}\n",
    "\n",
    "Description: {\n",
    "    long text Description\n",
    "}\n",
    "\n",
    "Body: {\n",
    "    long text Body\n",
    "}\n",
    "\n",
    "Analyst_Average_Score : {Analyst_Average_Score}"
   ]
  },
  {
   "cell_type": "code",
   "execution_count": null,
   "metadata": {},
   "outputs": [],
   "source": [
    "# all_columns=['Domain', 'Title', 'Description', 'Body', 'Link', 'timestamp','Analyst_Rank', 'Reference_Final_Score', 'Analyst_Average_Score']\n",
    "# useful_columns=['Domain', 'Title', 'Description', 'Body','Analyst_Rank','Analyst_Average_Score']\n",
    "# drop_columns=['Link','Reference_Final_Score','timestamp']\n",
    "\n",
    "# all_train=cleaned_df.head(9)[useful_columns]\n",
    "# test=cleaned_df.tail(1).drop(drop_columns,axis=1)\n",
    "\n",
    "\n",
    "# tuner=predict(all_train,test,return_value=True)"
   ]
  },
  {
   "cell_type": "code",
   "execution_count": null,
   "metadata": {},
   "outputs": [],
   "source": [
    "\n",
    "# all_columns=['Domain', 'Title', 'Description', 'Body', 'Link', 'timestamp','Analyst_Rank', 'Analyst_Average_Score']\n",
    "# useful_columns=[ 'Description', 'Body','Analyst_Average_Score']\n",
    "# drop_columns=['Title','Domain', 'Link','Reference_Final_Score','timestamp','Analyst_Rank']\n",
    "\n",
    "# unique_train=train.drop_duplicates(subset=[\"Analyst_Average_Score\"], keep='last')\n",
    "# unique_train=unique_train.sample(1)[useful_columns]\n",
    "# unique_train=train.sample()[useful_columns]\n",
    "# unique_test = test.drop(drop_columns,axis=1).sample()\n",
    "\n",
    "# unique_train=unique_train.rename(columns={\"Analyst_Average_Score\":\"Analyst Average Score\"})\n",
    "# unique_test=unique_test.rename(columns={\"Analyst_Average_Score\":\"Analyst Average Score\"})\n",
    "\n",
    "# display(unique_test)\n",
    "# display(unique_train)\n",
    "\n",
    "# unique_train_e=pd.DataFrame()\n",
    "\n"
   ]
  },
  {
   "cell_type": "code",
   "execution_count": null,
   "metadata": {},
   "outputs": [],
   "source": [
    "unique_test=test.sample()\n",
    "unique_train=train.sample()\n",
    "\n",
    "predictor.predict(unique_train,unique_test) # not fine-tuned\n",
    "predictor.predict(unique_train,unique_test,model=\"a0b276d4-adf8-453e-983f-31b8761e8521-ft\") # news-tuner: first try\n",
    "prompt=predictor.predict(unique_train,unique_test, model=\"c6af2dfd-16ae-4503-9693-6e50dae3861a-ft\" ) # tuner: second try\n",
    "prompt=predictor.predict(unique_train,unique_test, model=\"acfdd84f-2b81-4ee2-92d5-22ca5ee8f4f0-ft\" ) # enhanced-tuner: third try\n",
    "prompt=predictor.predict(unique_train,unique_test, model=\"e74ec85a-8e14-4913-83d5-02fe80ac7c4f-ft\" ) # tuner-all-in-one-column: final try\n",
    "\n",
    "print(f\"Correct Value: {unique_test.iloc[0,-1]}\")"
   ]
  },
  {
   "cell_type": "markdown",
   "metadata": {},
   "source": [
    "as we can see from the above results: our las fine tune performs well compared to the others <br>\n",
    "given example score is 1.33, given test score 0.0, predicted score 0.0"
   ]
  },
  {
   "cell_type": "code",
   "execution_count": null,
   "metadata": {},
   "outputs": [],
   "source": [
    "print(prompt)"
   ]
  },
  {
   "cell_type": "markdown",
   "metadata": {},
   "source": [
    "# Jobs"
   ]
  },
  {
   "cell_type": "code",
   "execution_count": null,
   "metadata": {},
   "outputs": [],
   "source": [
    "job_train_df=pd.read_json(\"../data/job_description_train.json\")\n",
    "job_test_df=pd.read_json(\"../data/job_description_test.json\")\n",
    "\n",
    "processed_job_train=job_train_df.copy()\n",
    "processed_job_test=job_test_df.copy()\n",
    "\n",
    "processed_job_test=processor.prepare_job_description_text(job_test_df)\n",
    "processed_job_train=processor.prepare_job_description_text(job_train_df)\n",
    "\n"
   ]
  },
  {
   "cell_type": "code",
   "execution_count": null,
   "metadata": {},
   "outputs": [],
   "source": [
    "trainer=processed_job_train.sample(2)\n",
    "test=processed_job_test.sample(1)\n",
    "\n",
    "prompt_job=predictor.extract_entities(trainer,test)\n",
    "print()\n",
    "prompt_job=predictor.extract_entities(trainer,test,'a724ac98-2abc-47b7-96b3-a77c3a5eb0f8-ft')"
   ]
  }
 ],
 "metadata": {
  "kernelspec": {
   "display_name": "Python 3.10.5 64-bit",
   "language": "python",
   "name": "python3"
  },
  "language_info": {
   "codemirror_mode": {
    "name": "ipython",
    "version": 3
   },
   "file_extension": ".py",
   "mimetype": "text/x-python",
   "name": "python",
   "nbconvert_exporter": "python",
   "pygments_lexer": "ipython3",
   "version": "3.10.5"
  },
  "orig_nbformat": 4,
  "vscode": {
   "interpreter": {
    "hash": "b1991c03751bb1ed07063b349673f109e299af7bd2e157024b7d7177e34b5cc3"
   }
  }
 },
 "nbformat": 4,
 "nbformat_minor": 2
}
