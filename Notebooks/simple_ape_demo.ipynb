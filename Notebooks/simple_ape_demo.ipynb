{
  "cells": [
    {
      "cell_type": "markdown",
      "metadata": {
        "colab_type": "text",
        "id": "view-in-github"
      },
      "source": [
        "<a href=\"https://colab.research.google.com/github/cobusgreyling/AutomaticPromptEngineering/blob/main/simple_ape_demo.ipynb\" target=\"_parent\"><img src=\"https://colab.research.google.com/assets/colab-badge.svg\" alt=\"Open In Colab\"/></a>"
      ]
    },
    {
      "cell_type": "code",
      "execution_count": 1,
      "metadata": {
        "colab": {
          "base_uri": "https://localhost:8080/"
        },
        "id": "x82vwepAs3Jg",
        "outputId": "19a4629b-e727-4b5f-bb6f-f8ed0798917a"
      },
      "outputs": [
        {
          "name": "stderr",
          "output_type": "stream",
          "text": [
            "ERROR: Could not open requirements file: [Errno 22] Invalid argument: 'git+https://github.com/keirp/automatic_prompt_engineer'\n"
          ]
        }
      ],
      "source": [
        "#@title Install Dependencies\n",
        "! pip uninstall -r git+https://github.com/keirp/automatic_prompt_engineer"
      ]
    },
    {
      "cell_type": "code",
      "execution_count": 11,
      "metadata": {
        "colab": {
          "base_uri": "https://localhost:8080/"
        },
        "id": "PXNwIzIQHpr8",
        "outputId": "72eff151-fa09-46a9-d176-e332b798c952"
      },
      "outputs": [
        {
          "name": "stdout",
          "output_type": "stream",
          "text": [
            "Collecting openai==0.28\n",
            "  Downloading openai-0.28.0-py3-none-any.whl.metadata (13 kB)\n",
            "Requirement already satisfied: requests>=2.20 in c:\\users\\abel\\documents\\10 academy\\week-6\\precision-rag\\.venv\\lib\\site-packages (from openai==0.28) (2.31.0)\n",
            "Requirement already satisfied: tqdm in c:\\users\\abel\\documents\\10 academy\\week-6\\precision-rag\\.venv\\lib\\site-packages (from openai==0.28) (4.66.1)\n",
            "Requirement already satisfied: aiohttp in c:\\users\\abel\\documents\\10 academy\\week-6\\precision-rag\\.venv\\lib\\site-packages (from openai==0.28) (3.9.1)\n",
            "Requirement already satisfied: charset-normalizer<4,>=2 in c:\\users\\abel\\documents\\10 academy\\week-6\\precision-rag\\.venv\\lib\\site-packages (from requests>=2.20->openai==0.28) (3.3.2)\n",
            "Requirement already satisfied: idna<4,>=2.5 in c:\\users\\abel\\documents\\10 academy\\week-6\\precision-rag\\.venv\\lib\\site-packages (from requests>=2.20->openai==0.28) (3.6)\n",
            "Requirement already satisfied: urllib3<3,>=1.21.1 in c:\\users\\abel\\documents\\10 academy\\week-6\\precision-rag\\.venv\\lib\\site-packages (from requests>=2.20->openai==0.28) (2.1.0)\n",
            "Requirement already satisfied: certifi>=2017.4.17 in c:\\users\\abel\\documents\\10 academy\\week-6\\precision-rag\\.venv\\lib\\site-packages (from requests>=2.20->openai==0.28) (2023.11.17)\n",
            "Requirement already satisfied: attrs>=17.3.0 in c:\\users\\abel\\documents\\10 academy\\week-6\\precision-rag\\.venv\\lib\\site-packages (from aiohttp->openai==0.28) (23.2.0)\n",
            "Requirement already satisfied: multidict<7.0,>=4.5 in c:\\users\\abel\\documents\\10 academy\\week-6\\precision-rag\\.venv\\lib\\site-packages (from aiohttp->openai==0.28) (6.0.4)\n",
            "Requirement already satisfied: yarl<2.0,>=1.0 in c:\\users\\abel\\documents\\10 academy\\week-6\\precision-rag\\.venv\\lib\\site-packages (from aiohttp->openai==0.28) (1.9.4)\n",
            "Requirement already satisfied: frozenlist>=1.1.1 in c:\\users\\abel\\documents\\10 academy\\week-6\\precision-rag\\.venv\\lib\\site-packages (from aiohttp->openai==0.28) (1.4.1)\n",
            "Requirement already satisfied: aiosignal>=1.1.2 in c:\\users\\abel\\documents\\10 academy\\week-6\\precision-rag\\.venv\\lib\\site-packages (from aiohttp->openai==0.28) (1.3.1)\n",
            "Requirement already satisfied: async-timeout<5.0,>=4.0 in c:\\users\\abel\\documents\\10 academy\\week-6\\precision-rag\\.venv\\lib\\site-packages (from aiohttp->openai==0.28) (4.0.3)\n",
            "Requirement already satisfied: colorama in c:\\users\\abel\\documents\\10 academy\\week-6\\precision-rag\\.venv\\lib\\site-packages (from tqdm->openai==0.28) (0.4.6)\n",
            "Downloading openai-0.28.0-py3-none-any.whl (76 kB)\n",
            "   ---------------------------------------- 0.0/76.5 kB ? eta -:--:--\n",
            "   ---------------- ----------------------- 30.7/76.5 kB 1.4 MB/s eta 0:00:01\n",
            "   -------------------------------- ------- 61.4/76.5 kB 656.4 kB/s eta 0:00:01\n",
            "   ---------------------------------------- 76.5/76.5 kB 530.5 kB/s eta 0:00:00\n",
            "Installing collected packages: openai\n",
            "  Attempting uninstall: openai\n",
            "    Found existing installation: openai 1.6.1\n",
            "    Uninstalling openai-1.6.1:\n",
            "      Successfully uninstalled openai-1.6.1\n",
            "Successfully installed openai-0.28.0\n",
            "Note: you may need to restart the kernel to use updated packages.\n"
          ]
        },
        {
          "name": "stderr",
          "output_type": "stream",
          "text": [
            "ERROR: pip's dependency resolver does not currently take into account all the packages that are installed. This behaviour is the source of the following dependency conflicts.\n",
            "langchain-openai 0.0.2.post1 requires openai<2.0.0,>=1.6.1, but you have openai 0.28.0 which is incompatible.\n"
          ]
        }
      ],
      "source": [
        "pip install openai==0.28"
      ]
    },
    {
      "cell_type": "code",
      "execution_count": 1,
      "metadata": {
        "id": "HbYuP9fSwDUb"
      },
      "outputs": [
        {
          "data": {
            "text/plain": [
              "<OpenAIObject list at 0x1bb61f943b0> JSON: {\n",
              "  \"object\": \"list\",\n",
              "  \"data\": [\n",
              "    {\n",
              "      \"object\": \"engine\",\n",
              "      \"id\": \"curie-search-query\",\n",
              "      \"ready\": true,\n",
              "      \"owner\": \"openai-dev\",\n",
              "      \"permissions\": null,\n",
              "      \"created\": null\n",
              "    },\n",
              "    {\n",
              "      \"object\": \"engine\",\n",
              "      \"id\": \"gpt-4\",\n",
              "      \"ready\": true,\n",
              "      \"owner\": \"openai\",\n",
              "      \"permissions\": null,\n",
              "      \"created\": null\n",
              "    },\n",
              "    {\n",
              "      \"object\": \"engine\",\n",
              "      \"id\": \"babbage-search-query\",\n",
              "      \"ready\": true,\n",
              "      \"owner\": \"openai-dev\",\n",
              "      \"permissions\": null,\n",
              "      \"created\": null\n",
              "    },\n",
              "    {\n",
              "      \"object\": \"engine\",\n",
              "      \"id\": \"dall-e-3\",\n",
              "      \"ready\": true,\n",
              "      \"owner\": \"system\",\n",
              "      \"permissions\": null,\n",
              "      \"created\": null\n",
              "    },\n",
              "    {\n",
              "      \"object\": \"engine\",\n",
              "      \"id\": \"babbage-search-document\",\n",
              "      \"ready\": true,\n",
              "      \"owner\": \"openai-dev\",\n",
              "      \"permissions\": null,\n",
              "      \"created\": null\n",
              "    },\n",
              "    {\n",
              "      \"object\": \"engine\",\n",
              "      \"id\": \"dall-e-2\",\n",
              "      \"ready\": true,\n",
              "      \"owner\": \"system\",\n",
              "      \"permissions\": null,\n",
              "      \"created\": null\n",
              "    },\n",
              "    {\n",
              "      \"object\": \"engine\",\n",
              "      \"id\": \"gpt-3.5-turbo-0301\",\n",
              "      \"ready\": true,\n",
              "      \"owner\": \"openai\",\n",
              "      \"permissions\": null,\n",
              "      \"created\": null\n",
              "    },\n",
              "    {\n",
              "      \"object\": \"engine\",\n",
              "      \"id\": \"text-embedding-ada-002\",\n",
              "      \"ready\": true,\n",
              "      \"owner\": \"openai-internal\",\n",
              "      \"permissions\": null,\n",
              "      \"created\": null\n",
              "    },\n",
              "    {\n",
              "      \"object\": \"engine\",\n",
              "      \"id\": \"gpt-4-0613\",\n",
              "      \"ready\": true,\n",
              "      \"owner\": \"openai\",\n",
              "      \"permissions\": null,\n",
              "      \"created\": null\n",
              "    },\n",
              "    {\n",
              "      \"object\": \"engine\",\n",
              "      \"id\": \"davinci-search-query\",\n",
              "      \"ready\": true,\n",
              "      \"owner\": \"openai-dev\",\n",
              "      \"permissions\": null,\n",
              "      \"created\": null\n",
              "    },\n",
              "    {\n",
              "      \"object\": \"engine\",\n",
              "      \"id\": \"tts-1-hd-1106\",\n",
              "      \"ready\": true,\n",
              "      \"owner\": \"system\",\n",
              "      \"permissions\": null,\n",
              "      \"created\": null\n",
              "    },\n",
              "    {\n",
              "      \"object\": \"engine\",\n",
              "      \"id\": \"tts-1-hd\",\n",
              "      \"ready\": true,\n",
              "      \"owner\": \"system\",\n",
              "      \"permissions\": null,\n",
              "      \"created\": null\n",
              "    },\n",
              "    {\n",
              "      \"object\": \"engine\",\n",
              "      \"id\": \"ada-search-document\",\n",
              "      \"ready\": true,\n",
              "      \"owner\": \"openai-dev\",\n",
              "      \"permissions\": null,\n",
              "      \"created\": null\n",
              "    },\n",
              "    {\n",
              "      \"object\": \"engine\",\n",
              "      \"id\": \"ada-code-search-code\",\n",
              "      \"ready\": true,\n",
              "      \"owner\": \"openai-dev\",\n",
              "      \"permissions\": null,\n",
              "      \"created\": null\n",
              "    },\n",
              "    {\n",
              "      \"object\": \"engine\",\n",
              "      \"id\": \"davinci-002\",\n",
              "      \"ready\": true,\n",
              "      \"owner\": \"system\",\n",
              "      \"permissions\": null,\n",
              "      \"created\": null\n",
              "    },\n",
              "    {\n",
              "      \"object\": \"engine\",\n",
              "      \"id\": \"babbage-002\",\n",
              "      \"ready\": true,\n",
              "      \"owner\": \"system\",\n",
              "      \"permissions\": null,\n",
              "      \"created\": null\n",
              "    },\n",
              "    {\n",
              "      \"object\": \"engine\",\n",
              "      \"id\": \"gpt-4-vision-preview\",\n",
              "      \"ready\": true,\n",
              "      \"owner\": \"system\",\n",
              "      \"permissions\": null,\n",
              "      \"created\": null\n",
              "    },\n",
              "    {\n",
              "      \"object\": \"engine\",\n",
              "      \"id\": \"davinci-search-document\",\n",
              "      \"ready\": true,\n",
              "      \"owner\": \"openai-dev\",\n",
              "      \"permissions\": null,\n",
              "      \"created\": null\n",
              "    },\n",
              "    {\n",
              "      \"object\": \"engine\",\n",
              "      \"id\": \"curie-search-document\",\n",
              "      \"ready\": true,\n",
              "      \"owner\": \"openai-dev\",\n",
              "      \"permissions\": null,\n",
              "      \"created\": null\n",
              "    },\n",
              "    {\n",
              "      \"object\": \"engine\",\n",
              "      \"id\": \"gpt-4-1106-preview\",\n",
              "      \"ready\": true,\n",
              "      \"owner\": \"system\",\n",
              "      \"permissions\": null,\n",
              "      \"created\": null\n",
              "    },\n",
              "    {\n",
              "      \"object\": \"engine\",\n",
              "      \"id\": \"ada-search-query\",\n",
              "      \"ready\": true,\n",
              "      \"owner\": \"openai-dev\",\n",
              "      \"permissions\": null,\n",
              "      \"created\": null\n",
              "    },\n",
              "    {\n",
              "      \"object\": \"engine\",\n",
              "      \"id\": \"ada-code-search-text\",\n",
              "      \"ready\": true,\n",
              "      \"owner\": \"openai-dev\",\n",
              "      \"permissions\": null,\n",
              "      \"created\": null\n",
              "    },\n",
              "    {\n",
              "      \"object\": \"engine\",\n",
              "      \"id\": \"gpt-3.5-turbo-16k-0613\",\n",
              "      \"ready\": true,\n",
              "      \"owner\": \"openai\",\n",
              "      \"permissions\": null,\n",
              "      \"created\": null\n",
              "    },\n",
              "    {\n",
              "      \"object\": \"engine\",\n",
              "      \"id\": \"whisper-1\",\n",
              "      \"ready\": true,\n",
              "      \"owner\": \"openai-internal\",\n",
              "      \"permissions\": null,\n",
              "      \"created\": null\n",
              "    },\n",
              "    {\n",
              "      \"object\": \"engine\",\n",
              "      \"id\": \"gpt-3.5-turbo-16k\",\n",
              "      \"ready\": true,\n",
              "      \"owner\": \"openai-internal\",\n",
              "      \"permissions\": null,\n",
              "      \"created\": null\n",
              "    },\n",
              "    {\n",
              "      \"object\": \"engine\",\n",
              "      \"id\": \"gpt-3.5-turbo\",\n",
              "      \"ready\": true,\n",
              "      \"owner\": \"openai\",\n",
              "      \"permissions\": null,\n",
              "      \"created\": null\n",
              "    },\n",
              "    {\n",
              "      \"object\": \"engine\",\n",
              "      \"id\": \"gpt-3.5-turbo-0613\",\n",
              "      \"ready\": true,\n",
              "      \"owner\": \"openai\",\n",
              "      \"permissions\": null,\n",
              "      \"created\": null\n",
              "    },\n",
              "    {\n",
              "      \"object\": \"engine\",\n",
              "      \"id\": \"gpt-3.5-turbo-1106\",\n",
              "      \"ready\": true,\n",
              "      \"owner\": \"system\",\n",
              "      \"permissions\": null,\n",
              "      \"created\": null\n",
              "    },\n",
              "    {\n",
              "      \"object\": \"engine\",\n",
              "      \"id\": \"gpt-3.5-turbo-instruct\",\n",
              "      \"ready\": true,\n",
              "      \"owner\": \"system\",\n",
              "      \"permissions\": null,\n",
              "      \"created\": null\n",
              "    },\n",
              "    {\n",
              "      \"object\": \"engine\",\n",
              "      \"id\": \"gpt-3.5-turbo-instruct-0914\",\n",
              "      \"ready\": true,\n",
              "      \"owner\": \"system\",\n",
              "      \"permissions\": null,\n",
              "      \"created\": null\n",
              "    },\n",
              "    {\n",
              "      \"object\": \"engine\",\n",
              "      \"id\": \"tts-1-1106\",\n",
              "      \"ready\": true,\n",
              "      \"owner\": \"system\",\n",
              "      \"permissions\": null,\n",
              "      \"created\": null\n",
              "    },\n",
              "    {\n",
              "      \"object\": \"engine\",\n",
              "      \"id\": \"tts-1\",\n",
              "      \"ready\": true,\n",
              "      \"owner\": \"openai-internal\",\n",
              "      \"permissions\": null,\n",
              "      \"created\": null\n",
              "    }\n",
              "  ]\n",
              "}"
            ]
          },
          "execution_count": 1,
          "metadata": {},
          "output_type": "execute_result"
        }
      ],
      "source": [
        "import os\n",
        "import openai\n",
        "\n",
        "# get API key from top-right dropdown on OpenAI website\n",
        "openai.api_key = os.getenv(\"OPENAI_API_KEY\") or \"OPENAI_API_KEY\"\n",
        "\n",
        "openai.Engine.list()  # check we have authenticated"
      ]
    },
    {
      "cell_type": "markdown",
      "metadata": {
        "id": "7W5nQxnZsyS1"
      },
      "source": [
        "# Optimizing Prompts with **Automatic Prompt Engineer** (APE)\n",
        "\n",
        "This notebook demonstrates how to use Automatic Prompt Engineer (APE) (arxiv link) to optimize prompts for text generation. In its simplest form, APE takes as input a dataset (a list of inputs and a list of outputs), a prompt template, and optimizes this prompt template so that it generates the outputs given the inputs.\n",
        "\n",
        "APE accomplishes this in two steps. First, it uses a language model to generate a set of candidate prompts. Then, it uses a prompt evaluation function to evaluate the quality of each candidate prompt. Finally, it returns the prompt with the highest evaluation score."
      ]
    },
    {
      "cell_type": "code",
      "execution_count": 2,
      "metadata": {
        "id": "tbAA6kE5syS5"
      },
      "outputs": [],
      "source": [
        "# First, let's define a simple dataset consisting of words and their antonyms.\n",
        "words = [\"sane\", \"direct\", \"informally\", \"unpopular\", \"subtractive\", \"nonresidential\",\n",
        "    \"inexact\", \"uptown\", \"incomparable\", \"powerful\", \"gaseous\", \"evenly\", \"formality\",\n",
        "    \"deliberately\", \"off\"]\n",
        "antonyms = [\"insane\", \"indirect\", \"formally\", \"popular\", \"additive\", \"residential\",\n",
        "    \"exact\", \"downtown\", \"comparable\", \"powerless\", \"solid\", \"unevenly\", \"informality\",\n",
        "    \"accidentally\", \"on\"]"
      ]
    },
    {
      "cell_type": "code",
      "execution_count": 3,
      "metadata": {
        "id": "OUxGByFssyS6"
      },
      "outputs": [],
      "source": [
        "# Now, we need to define the format of the prompt that we are using.\n",
        "\n",
        "eval_template = \\\n",
        "\"\"\"Instruction: [PROMPT]\n",
        "Input: [INPUT]\n",
        "Output: [OUTPUT]\"\"\""
      ]
    },
    {
      "cell_type": "code",
      "execution_count": 4,
      "metadata": {
        "colab": {
          "base_uri": "https://localhost:8080/"
        },
        "id": "4DX06_wgsyS7",
        "outputId": "7c79c5bc-7e50-45d5-fa4f-2cf5a47f0fab"
      },
      "outputs": [
        {
          "ename": "ModuleNotFoundError",
          "evalue": "No module named 'automatic_prompt_engineer'",
          "output_type": "error",
          "traceback": [
            "\u001b[1;31m---------------------------------------------------------------------------\u001b[0m",
            "\u001b[1;31mModuleNotFoundError\u001b[0m                       Traceback (most recent call last)",
            "Cell \u001b[1;32mIn[4], line 4\u001b[0m\n\u001b[0;32m      1\u001b[0m \u001b[38;5;28;01mimport\u001b[39;00m \u001b[38;5;21;01msys\u001b[39;00m\n\u001b[0;32m      2\u001b[0m sys\u001b[38;5;241m.\u001b[39mpath\u001b[38;5;241m.\u001b[39minsert(\u001b[38;5;241m0\u001b[39m, \u001b[38;5;124m'\u001b[39m\u001b[38;5;124m../\u001b[39m\u001b[38;5;124m'\u001b[39m)\n\u001b[1;32m----> 4\u001b[0m \u001b[38;5;28;01mfrom\u001b[39;00m \u001b[38;5;21;01msrc\u001b[39;00m\u001b[38;5;21;01m.\u001b[39;00m\u001b[38;5;21;01mautomatic_prompt_engineer\u001b[39;00m\u001b[38;5;21;01m.\u001b[39;00m\u001b[38;5;21;01mautomatic_prompt_engineer\u001b[39;00m \u001b[38;5;28;01mimport\u001b[39;00m ape\n\u001b[0;32m      6\u001b[0m result, demo_fn \u001b[38;5;241m=\u001b[39m ape\u001b[38;5;241m.\u001b[39msimple_ape(\n\u001b[0;32m      7\u001b[0m     dataset\u001b[38;5;241m=\u001b[39m(words, antonyms),\n\u001b[0;32m      8\u001b[0m     eval_template\u001b[38;5;241m=\u001b[39meval_template,\n\u001b[0;32m      9\u001b[0m )\n",
            "File \u001b[1;32mc:\\Users\\Abel\\Documents\\10 Academy\\week-6\\Precision-RAG\\notebooks\\..\\src\\automatic_prompt_engineer\\automatic_prompt_engineer\\ape.py:2\u001b[0m\n\u001b[0;32m      1\u001b[0m \u001b[38;5;28;01mimport\u001b[39;00m \u001b[38;5;21;01mrandom\u001b[39;00m\n\u001b[1;32m----> 2\u001b[0m \u001b[38;5;28;01mfrom\u001b[39;00m \u001b[38;5;21;01mautomatic_prompt_engineer\u001b[39;00m \u001b[38;5;28;01mimport\u001b[39;00m generate, evaluate, config, template, data, llm\n\u001b[0;32m      5\u001b[0m \u001b[38;5;28;01mdef\u001b[39;00m \u001b[38;5;21mget_simple_prompt_gen_template\u001b[39m(prompt_gen_template, prompt_gen_mode):\n\u001b[0;32m      6\u001b[0m     \u001b[38;5;28;01mif\u001b[39;00m prompt_gen_template \u001b[38;5;129;01mis\u001b[39;00m \u001b[38;5;28;01mNone\u001b[39;00m:\n",
            "\u001b[1;31mModuleNotFoundError\u001b[0m: No module named 'automatic_prompt_engineer'"
          ]
        }
      ],
      "source": [
        "import sys\n",
        "sys.path.insert(0, '../')\n",
        "\n",
        "from src.automatic_prompt_engineer.automatic_prompt_engineer import ape\n",
        "\n",
        "result, demo_fn = ape.simple_ape(\n",
        "    dataset=(words, antonyms),\n",
        "    eval_template=eval_template,\n",
        ")"
      ]
    },
    {
      "cell_type": "code",
      "execution_count": null,
      "metadata": {
        "colab": {
          "base_uri": "https://localhost:8080/"
        },
        "id": "YXHoK_4esyS8",
        "outputId": "065e692a-370d-4485-893d-13c96d305881"
      },
      "outputs": [],
      "source": [
        "# Let's see the results.\n",
        "print(result)"
      ]
    },
    {
      "cell_type": "markdown",
      "metadata": {
        "id": "7PE_bMX2syS9"
      },
      "source": [
        "Let's compare with a prompt written by a human:\n",
        "\n",
        "\"*Write an antonym to the following word.*\""
      ]
    },
    {
      "cell_type": "code",
      "execution_count": null,
      "metadata": {
        "id": "KXkvmnXrsyS9"
      },
      "outputs": [],
      "source": [
        "from automatic_prompt_engineer import ape\n",
        "\n",
        "manual_prompt = \"Write an antonym to the following word.\"\n",
        "\n",
        "human_result = ape.simple_eval(\n",
        "    dataset=(words, antonyms),\n",
        "    eval_template=eval_template,\n",
        "    prompts=[manual_prompt],\n",
        ")"
      ]
    },
    {
      "cell_type": "code",
      "execution_count": null,
      "metadata": {
        "colab": {
          "base_uri": "https://localhost:8080/"
        },
        "id": "elGm3qs3syS-",
        "outputId": "11f70317-cf04-42c1-8fc8-efee12c69e7c"
      },
      "outputs": [],
      "source": [
        "print(human_result)"
      ]
    }
  ],
  "metadata": {
    "colab": {
      "include_colab_link": true,
      "provenance": []
    },
    "kernelspec": {
      "display_name": "Python 3.8.8 ('py38')",
      "language": "python",
      "name": "python3"
    },
    "language_info": {
      "codemirror_mode": {
        "name": "ipython",
        "version": 3
      },
      "file_extension": ".py",
      "mimetype": "text/x-python",
      "name": "python",
      "nbconvert_exporter": "python",
      "pygments_lexer": "ipython3",
      "version": "3.8.17"
    },
    "orig_nbformat": 4,
    "vscode": {
      "interpreter": {
        "hash": "c2afcb7a2e6fcb9490d448e607abf9226c3f7acca28baeea9bc24b456562037f"
      }
    }
  },
  "nbformat": 4,
  "nbformat_minor": 0
}
