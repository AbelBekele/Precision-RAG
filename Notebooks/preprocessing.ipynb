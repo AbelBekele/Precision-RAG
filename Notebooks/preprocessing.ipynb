{
 "cells": [
  {
   "cell_type": "code",
   "execution_count": null,
   "metadata": {},
   "outputs": [],
   "source": [
    "import pandas as pd\n",
    "import seaborn as sns\n",
    "import matplotlib.pyplot as plt\n",
    "import numpy as np\n",
    "import re\n",
    "import warnings\n",
    "\n",
    "from data_describe.text.text_preprocessing import *\n",
    "from sklearn.datasets import fetch_20newsgroups\n",
    "\n",
    "warnings.simplefilter('ignore')"
   ]
  },
  {
   "cell_type": "code",
   "execution_count": null,
   "metadata": {},
   "outputs": [],
   "source": [
    "import sys\n",
    "sys.path.append(\"../scripts/\")\n",
    "from data_cleaner import DataCleaner\n",
    "from util import Util\n",
    "from preprocessor import Processor"
   ]
  },
  {
   "cell_type": "code",
   "execution_count": null,
   "metadata": {},
   "outputs": [],
   "source": [
    "util = Util()\n",
    "cleaner = DataCleaner()\n",
    "processor = Processor()"
   ]
  },
  {
   "cell_type": "markdown",
   "metadata": {},
   "source": [
    "# News"
   ]
  },
  {
   "cell_type": "code",
   "execution_count": null,
   "metadata": {},
   "outputs": [],
   "source": [
    "repo=\"https://github.com/Nathnael12/prompt-engineering.git\"\n",
    "news_df=util.read_from_dvc(\"data/news.csv\",repo,\"news-v0\",low_memory=False)\n",
    "\n",
    "# cleaned_df=util.read_from_file('../data/news.csv')"
   ]
  },
  {
   "cell_type": "code",
   "execution_count": null,
   "metadata": {},
   "outputs": [],
   "source": [
    "news_df=news_df.sample(frac=1)\n",
    "\n",
    "train_news=news_df.head(8)\n",
    "test_news=news_df.tail(2)"
   ]
  },
  {
   "cell_type": "code",
   "execution_count": null,
   "metadata": {},
   "outputs": [],
   "source": [
    "full_processed_df=processor.prepare_text(train_news.copy())\n",
    "description_processed=processor.prepare_text(train_news.copy(),columns=[\"Description\"])[[\"Description\",\"Analyst_Average_Score\"]]\n",
    "title_processed=processor.prepare_text(train_news.copy(),columns=[\"Title\"])[[\"Title\",\"Analyst_Average_Score\"]]\n",
    "body_processed=processor.prepare_text(train_news.copy(),columns=[\"Body\"])[[\"Body\",\"Analyst_Average_Score\"]]\n",
    "unprocessed=train_news\n",
    "\n",
    "processed_test=processor.prepare_text(test_news)"
   ]
  },
  {
   "cell_type": "code",
   "execution_count": null,
   "metadata": {},
   "outputs": [],
   "source": [
    "full_processed_df['Description']=full_processed_df['Title'] + \", \" + full_processed_df['Description'] + \", \" + full_processed_df[\"Body\"]\n",
    "full_processed_df.drop(['Domain','Title','Body','Link','timestamp','Analyst_Rank','Reference_Final_Score'],axis=1,inplace=True)\n",
    "\n",
    "title_processed.rename(columns={'Title':'Description'},inplace=True)\n",
    "\n",
    "body_processed.rename(columns={'Body':'Description'},inplace=True)\n",
    "\n",
    "unprocessed['Description']=unprocessed['Title'] + \", \" + unprocessed['Description'] + \", \" + unprocessed[\"Body\"]\n",
    "unprocessed.drop(['Domain','Title','Body','Link','timestamp','Analyst_Rank','Reference_Final_Score'],axis=1,inplace=True)\n",
    "\n",
    "processed_test['Description']=processed_test['Title'] + \", \" + processed_test['Description'] + \", \" + processed_test[\"Body\"]\n",
    "processed_test.drop(['Domain','Title','Body','Link','timestamp','Analyst_Rank','Reference_Final_Score'],axis=1,inplace=True)\n",
    "\n",
    "\n"
   ]
  },
  {
   "cell_type": "code",
   "execution_count": null,
   "metadata": {},
   "outputs": [],
   "source": [
    "frames = [full_processed_df, description_processed, title_processed, body_processed, unprocessed]\n",
    "\n",
    "full_promp_trainer = pd.concat(frames)\n"
   ]
  },
  {
   "cell_type": "code",
   "execution_count": null,
   "metadata": {},
   "outputs": [],
   "source": [
    "full_promp_trainer=full_promp_trainer.reset_index().drop(['index'],axis=1)"
   ]
  },
  {
   "cell_type": "code",
   "execution_count": null,
   "metadata": {},
   "outputs": [],
   "source": [
    "# full_promp_trainer=full_promp_trainer[['Domain','Title','Description','Body','timestamp','Analyst_Average_Score']]\n",
    "full_promp_trainer.rename(columns={\"Analyst_Average_Score\":\"Analyst Average Score\"},inplace=True)\n",
    "# full_promp_trainer=cleaner.convert_to_datetime(full_promp_trainer,['timestamp'])\n",
    "# full_promp_trainer=full_promp_trainer.fillna('')\n",
    "full_promp_trainer.head()"
   ]
  },
  {
   "cell_type": "code",
   "execution_count": null,
   "metadata": {},
   "outputs": [],
   "source": [
    "\n",
    "processor.prepare_tuner(full_promp_trainer)"
   ]
  },
  {
   "cell_type": "code",
   "execution_count": null,
   "metadata": {},
   "outputs": [],
   "source": [
    "# uncomment these for first time use\n",
    "# full_processed_df.to_csv(\"../data/trainer_news.csv\",index=False)\n",
    "# processed_test.to_csv(\"../data/test_news.csv\",index=False)\n",
    "# full_processed_df.to_csv(\"../data/processed_news.csv\",index=False)\n"
   ]
  },
  {
   "cell_type": "markdown",
   "metadata": {},
   "source": [
    "# Job"
   ]
  },
  {
   "cell_type": "code",
   "execution_count": null,
   "metadata": {},
   "outputs": [],
   "source": [
    "job_df=pd.read_json(\"../data/job_description_train.json\")\n",
    "test_df=pd.read_json(\"../data/job_description_test.json\")"
   ]
  },
  {
   "cell_type": "code",
   "execution_count": null,
   "metadata": {},
   "outputs": [],
   "source": [
    "job_df_train=job_df.copy()\n",
    "job_df_test = test_df.copy()\n",
    "\n",
    "processed_description=processor.prepare_job_description_text(job_df_train)\n",
    "processed_test_description=processor.prepare_job_description_text(job_df_test)\n",
    "\n",
    "display(processed_description.head())\n",
    "display(processed_test_description.head())"
   ]
  },
  {
   "cell_type": "code",
   "execution_count": null,
   "metadata": {},
   "outputs": [],
   "source": [
    "processed_test_description.shape"
   ]
  },
  {
   "cell_type": "code",
   "execution_count": null,
   "metadata": {},
   "outputs": [],
   "source": [
    "processed_description.shape"
   ]
  },
  {
   "cell_type": "code",
   "execution_count": null,
   "metadata": {},
   "outputs": [],
   "source": [
    "job_frames = [processed_description, processed_test_description.head(10)]\n",
    "\n",
    "job_tuner_df = pd.concat(job_frames)"
   ]
  },
  {
   "cell_type": "code",
   "execution_count": null,
   "metadata": {},
   "outputs": [],
   "source": [
    "job_tuner_df=job_tuner_df.reset_index().drop([\"index\"],axis=1)"
   ]
  },
  {
   "cell_type": "code",
   "execution_count": null,
   "metadata": {},
   "outputs": [],
   "source": [
    "processor.prepare_job_description_tuner(job_tuner_df)"
   ]
  }
 ],
 "metadata": {
  "kernelspec": {
   "display_name": "Python 3.10.5 64-bit",
   "language": "python",
   "name": "python3"
  },
  "language_info": {
   "codemirror_mode": {
    "name": "ipython",
    "version": 3
   },
   "file_extension": ".py",
   "mimetype": "text/x-python",
   "name": "python",
   "nbconvert_exporter": "python",
   "pygments_lexer": "ipython3",
   "version": "3.10.5"
  },
  "orig_nbformat": 4,
  "vscode": {
   "interpreter": {
    "hash": "b1991c03751bb1ed07063b349673f109e299af7bd2e157024b7d7177e34b5cc3"
   }
  }
 },
 "nbformat": 4,
 "nbformat_minor": 2
}
